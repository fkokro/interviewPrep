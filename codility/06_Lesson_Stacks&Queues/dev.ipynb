{
 "cells": [
  {
   "cell_type": "code",
   "execution_count": 1,
   "metadata": {},
   "outputs": [],
   "source": [
    "import os"
   ]
  },
  {
   "cell_type": "code",
   "execution_count": 3,
   "metadata": {},
   "outputs": [],
   "source": [
    "A = \"{[()()]}\""
   ]
  },
  {
   "cell_type": "code",
   "execution_count": 2,
   "metadata": {},
   "outputs": [],
   "source": [
    "stack = []\n",
    "lookup = {')':'(','}':'{',']':'['}"
   ]
  },
  {
   "cell_type": "code",
   "execution_count": 6,
   "metadata": {},
   "outputs": [
    {
     "data": {
      "text/plain": [
       "['{', '[', '(', '(']"
      ]
     },
     "execution_count": 6,
     "metadata": {},
     "output_type": "execute_result"
    }
   ],
   "source": [
    "for p in A:\n",
    "    if p in lookup.values():\n",
    "        stack.append(p)\n",
    "    elif stack and lookup[p] == stack[-1]:\n",
    "        stack.pop()\n",
    "    else:\n",
    "        return 0\n",
    "\n",
    "return 1 if stack == [] else 0\n",
    "        "
   ]
  },
  {
   "cell_type": "code",
   "execution_count": 49,
   "metadata": {},
   "outputs": [],
   "source": [
    "upStream = 0\n",
    "downStream = []"
   ]
  },
  {
   "cell_type": "code",
   "execution_count": 50,
   "metadata": {},
   "outputs": [],
   "source": [
    "A = [4,3,2,1,5]\n",
    "B = [0,1,0,0,0]\n",
    "n = len(A)"
   ]
  },
  {
   "cell_type": "code",
   "execution_count": null,
   "metadata": {},
   "outputs": [],
   "source": [
    "downStream = []\n",
    "res = 0\n",
    "\n",
    "for i in range(len(B)):\n",
    "    "
   ]
  },
  {
   "cell_type": "code",
   "execution_count": 51,
   "metadata": {},
   "outputs": [
    {
     "ename": "IndexError",
     "evalue": "list index out of range",
     "output_type": "error",
     "traceback": [
      "\u001b[1;31m---------------------------------------------------------------------------\u001b[0m",
      "\u001b[1;31mIndexError\u001b[0m                                Traceback (most recent call last)",
      "Cell \u001b[1;32mIn[51], line 6\u001b[0m\n\u001b[0;32m      4\u001b[0m     \u001b[38;5;28;01mpass\u001b[39;00m\n\u001b[0;32m      5\u001b[0m \u001b[38;5;28;01melse\u001b[39;00m:\n\u001b[1;32m----> 6\u001b[0m     \u001b[38;5;28;01mwhile\u001b[39;00m \u001b[43mdownStream\u001b[49m\u001b[43m[\u001b[49m\u001b[38;5;241;43m-\u001b[39;49m\u001b[38;5;241;43m1\u001b[39;49m\u001b[43m]\u001b[49m \u001b[38;5;241m<\u001b[39m A[i]:\n\u001b[0;32m      7\u001b[0m         downStream\u001b[38;5;241m.\u001b[39mpop(\u001b[38;5;241m-\u001b[39m\u001b[38;5;241m1\u001b[39m)\n\u001b[0;32m      8\u001b[0m     upStream \u001b[38;5;241m+\u001b[39m\u001b[38;5;241m=\u001b[39m \u001b[38;5;241m1\u001b[39m\n",
      "\u001b[1;31mIndexError\u001b[0m: list index out of range"
     ]
    }
   ],
   "source": [
    "for i in range(n):\n",
    "    if downStream:\n",
    "        if downStream[-1] > A[i]:\n",
    "            pass\n",
    "        else:\n",
    "            while downStream[-1] < A[i]:\n",
    "                downStream.pop(-1)\n",
    "            upStream += 1\n",
    "    else:\n",
    "        if B[i] == 1:\n",
    "            downStream.append(A[i])\n",
    "        else:\n",
    "            upStream += 1\n",
    "    "
   ]
  },
  {
   "cell_type": "code",
   "execution_count": 48,
   "metadata": {},
   "outputs": [
    {
     "data": {
      "text/plain": [
       "2"
      ]
     },
     "execution_count": 48,
     "metadata": {},
     "output_type": "execute_result"
    }
   ],
   "source": [
    "len(downStream) + upStream"
   ]
  },
  {
   "cell_type": "code",
   "execution_count": 36,
   "metadata": {},
   "outputs": [
    {
     "name": "stdout",
     "output_type": "stream",
     "text": [
      "[]\n",
      "[4]\n",
      "[4, 3]\n",
      "[4, 3]\n",
      "2\n"
     ]
    }
   ],
   "source": [
    "for i in range(n):\n",
    "    if downStream:\n",
    "        if fish_size[-1] > A[i] and fish_direction[-1] > B[i]:\n",
    "            pass\n",
    "        elif fish_size[-1] < A[i] and fish_direction[-1] > B[i]:\n",
    "            while fish_size[-1] < A[i] and fish_direction[-1] > B[i]:\n",
    "                fish_direction.pop(-1)\n",
    "                fish_size.pop(-1)\n",
    "            fish_direction.append(B[i])\n",
    "            fish_size.append(A[i])                           \n",
    "        else:\n",
    "            fish_direction.append(B[i])\n",
    "            fish_size.append(A[i])           \n",
    "    else:\n",
    "        fish_direction.append(B[i])\n",
    "        fish_size.append(A[i])\n",
    "        \n",
    "print(len(fish_size))"
   ]
  },
  {
   "cell_type": "code",
   "execution_count": 11,
   "metadata": {},
   "outputs": [
    {
     "data": {
      "text/plain": [
       "[]"
      ]
     },
     "execution_count": 11,
     "metadata": {},
     "output_type": "execute_result"
    }
   ],
   "source": [
    "fish_size"
   ]
  }
 ],
 "metadata": {
  "kernelspec": {
   "display_name": "venv",
   "language": "python",
   "name": "python3"
  },
  "language_info": {
   "codemirror_mode": {
    "name": "ipython",
    "version": 3
   },
   "file_extension": ".py",
   "mimetype": "text/x-python",
   "name": "python",
   "nbconvert_exporter": "python",
   "pygments_lexer": "ipython3",
   "version": "3.12.2"
  }
 },
 "nbformat": 4,
 "nbformat_minor": 2
}
